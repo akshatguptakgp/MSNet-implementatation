{
  "nbformat": 4,
  "nbformat_minor": 0,
  "metadata": {
    "colab": {
      "name": "isles15.ipynb",
      "provenance": [],
      "collapsed_sections": []
    },
    "kernelspec": {
      "name": "python3",
      "display_name": "Python 3"
    },
    "accelerator": "GPU"
  },
  "cells": [
    {
      "cell_type": "code",
      "metadata": {
        "id": "nD9MYTEKZf8W",
        "colab_type": "code",
        "colab": {}
      },
      "source": [
        "from google.colab import drive\n",
        "drive.mount('/content/drive')"
      ],
      "execution_count": null,
      "outputs": []
    },
    {
      "cell_type": "code",
      "metadata": {
        "id": "J8p7uGy_uyTt",
        "colab_type": "code",
        "colab": {}
      },
      "source": [
        "%tensorflow_version 1.x"
      ],
      "execution_count": null,
      "outputs": []
    },
    {
      "cell_type": "code",
      "metadata": {
        "id": "8-V0q8siu-Js",
        "colab_type": "code",
        "colab": {}
      },
      "source": [
        "import tensorflow.compat.v1 as tf\n"
      ],
      "execution_count": null,
      "outputs": []
    },
    {
      "cell_type": "code",
      "metadata": {
        "id": "m6KRrTJds1j1",
        "colab_type": "code",
        "colab": {}
      },
      "source": [
        "import tensorflow \n",
        "print(tensorflow.__version__)\n"
      ],
      "execution_count": null,
      "outputs": []
    },
    {
      "cell_type": "code",
      "metadata": {
        "id": "MzpmQJLtbt16",
        "colab_type": "code",
        "colab": {}
      },
      "source": [
        "!unzip -q \"/content/drive/My Drive/siss - Copy.zip\""
      ],
      "execution_count": null,
      "outputs": []
    },
    {
      "cell_type": "code",
      "metadata": {
        "id": "q_SzhK0Tiomj",
        "colab_type": "code",
        "colab": {}
      },
      "source": [
        "import cv2\n",
        "import numpy as np"
      ],
      "execution_count": null,
      "outputs": []
    },
    {
      "cell_type": "code",
      "metadata": {
        "id": "LdGPUo2oaHoM",
        "colab_type": "code",
        "colab": {}
      },
      "source": [
        "a = []\n",
        "k=256\n",
        "path = \"/content/siss - Copy/\"\n",
        "for i in range(1):\n",
        "   print(i)\n",
        "   im1 = cv2.imread(path + \"Flair/\"+ str(i) + \".jpg\",0)\n",
        "   im1 = cv2.resize(im1,(k,k))\n",
        "   im1=im1/255\n",
        "   im1 = np.expand_dims(im1,axis=2)\n",
        "\n",
        "   im2 = cv2.imread(path + \"DWI/\"+ str(i) + \".jpg\",0)\n",
        "   im2 = cv2.resize(im2,(k,k))\n",
        "   im2=im2/255\n",
        "   im2 = np.expand_dims(im2,axis=2)\n",
        "\n",
        "   im3 = cv2.imread(path + \"T1/\"+ str(i) + \".jpg\",0)\n",
        "   im3 = cv2.resize(im3,(k,k))\n",
        "   im3=im3/255\n",
        "   im3 = np.expand_dims(im3,axis=2)\n",
        " \n",
        "   im4 = cv2.imread(path+\"T2/\"+ str(i) + \".jpg\",0)\n",
        "   im4 = cv2.resize(im4,(k,k))\n",
        "   im4 = im4/255\n",
        "   im4= np.expand_dims(im4,axis=2)\n",
        "   \n",
        "   ans = np.concatenate((im1,im2,im3,im4),axis=2)\n",
        "\n",
        "   ans = np.expand_dims(ans,axis=0)\n",
        "   \n",
        "   \n",
        "   print(ans.shape)\n",
        "   \n",
        "   \n",
        "   "
      ],
      "execution_count": null,
      "outputs": []
    },
    {
      "cell_type": "code",
      "metadata": {
        "id": "aG5hEuq3afH1",
        "colab_type": "code",
        "colab": {}
      },
      "source": [
        "\n",
        "for i in range(1,697,1):\n",
        "   print(i)\n",
        "   im1 = cv2.imread(path + \"Flair/\"+ str(i) + \".jpg\",0)\n",
        "   im1 = cv2.resize(im1,(k,k))\n",
        "   im1=im1/255\n",
        "   im1 = np.expand_dims(im1,axis=2)\n",
        "\n",
        "   im2 = cv2.imread(path + \"DWI/\"+ str(i) + \".jpg\",0)\n",
        "   im2 = cv2.resize(im2,(k,k))\n",
        "   im2=im2/255\n",
        "   im2 = np.expand_dims(im2,axis=2)\n",
        "\n",
        "   im3 = cv2.imread(path + \"T1/\"+ str(i) + \".jpg\",0)\n",
        "   im3 = cv2.resize(im3,(k,k))\n",
        "   im3=im3/255\n",
        "   im3 = np.expand_dims(im3,axis=2)\n",
        " \n",
        "   im4 = cv2.imread(path+\"T2/\"+ str(i) + \".jpg\",0)\n",
        "   im4 = cv2.resize(im4,(k,k))\n",
        "   im4 = im4/255\n",
        "   im4= np.expand_dims(im4,axis=2)\n",
        "   \n",
        "   \n",
        "   \n",
        "   \n",
        "   ans2 = np.concatenate((im1,im2,im3,im4),axis=2)\n",
        "   ans2 = np.expand_dims(ans2,axis=0)\n",
        "  \n",
        "   \n",
        "   ans = np.concatenate((ans,ans2),axis=0)\n",
        "   \n",
        "   "
      ],
      "execution_count": null,
      "outputs": []
    },
    {
      "cell_type": "code",
      "metadata": {
        "id": "a1qFbHfejuJz",
        "colab_type": "code",
        "colab": {}
      },
      "source": [
        "ans.shape"
      ],
      "execution_count": null,
      "outputs": []
    },
    {
      "cell_type": "code",
      "metadata": {
        "id": "8p_nuLShawa6",
        "colab_type": "code",
        "colab": {}
      },
      "source": [
        "#%% preparing labels\n",
        "   \n",
        "   \n",
        "   \n",
        "   \n",
        "for i in range(1):\n",
        "    print(i)\n",
        "    im1 = cv2.imread(path + \"OT/\"+str(i)+\".jpg\",0)\n",
        "    \n",
        "    im1 = cv2.resize(im1,(k,k))\n",
        "    for i in range(k):\n",
        "      for j in range(k):\n",
        "        if(im1[i][j]>128):\n",
        "          im1[i][j]=1\n",
        "        else:\n",
        "          im1[i][j]=0\n",
        "          \n",
        "   \n",
        "    print(np.unique(im1))\n",
        "    \n",
        "    im1 = np.expand_dims(im1,axis=2)\n",
        "    labels = np.expand_dims(im1,axis=0)\n",
        "   \n",
        "for i in range(1,697,1):\n",
        "    print(i)\n",
        "    im1 = cv2.imread(path + \"OT/\"+str(i)+\".jpg\",0)\n",
        "    im1 = cv2.resize(im1,(k,k))\n",
        "    for i in range(k):\n",
        "      for j in range(k):\n",
        "        if(im1[i][j]>128):\n",
        "          im1[i][j]=1\n",
        "        else:\n",
        "          im1[i][j]=0\n",
        "   \n",
        "    im1 = np.expand_dims(im1,axis=0)\n",
        "    im1 = np.expand_dims(im1,axis=3)\n",
        "    labels = np.concatenate((labels,im1),axis=0)\n"
      ],
      "execution_count": null,
      "outputs": []
    },
    {
      "cell_type": "code",
      "metadata": {
        "id": "yoYKOplEbgSL",
        "colab_type": "code",
        "colab": {}
      },
      "source": [
        "ans = ans.astype(np.float32)\n",
        "labels = labels.astype(np.float32)\n"
      ],
      "execution_count": null,
      "outputs": []
    },
    {
      "cell_type": "code",
      "metadata": {
        "id": "6ptsdWhsrnpg",
        "colab_type": "code",
        "colab": {}
      },
      "source": [
        "import numpy as n\n",
        "np.unique(ans)"
      ],
      "execution_count": null,
      "outputs": []
    },
    {
      "cell_type": "code",
      "metadata": {
        "id": "B0ungh5vYdqJ",
        "colab_type": "code",
        "colab": {}
      },
      "source": [
        "input_size = (256,256,4)\n",
        "inputs = Input(input_size) #returns a tensor\n",
        "conv1 = Convolution2D(64, 3, activation = 'relu', padding = 'same', kernel_initializer = 'he_normal')(inputs)\n",
        "conv1 = BatchNormalization()(conv1)\n",
        "conv1 = Convolution2D(64, 3, activation = 'relu', padding = 'same', kernel_initializer = 'he_normal')(conv1)\n",
        "conv1 = BatchNormalization()(conv1)\n",
        "pool1 = MaxPooling2D(pool_size=(2, 2))(conv1)\n",
        "conv2 = Convolution2D(128, 3, activation = 'relu', padding = 'same', kernel_initializer = 'he_normal')(pool1)\n",
        "conv2 = BatchNormalization()(conv2)\n",
        "conv2 = Convolution2D(128, 3, activation = 'relu', padding = 'same', kernel_initializer = 'he_normal')(conv2)\n",
        "conv2 = BatchNormalization()(conv2)\n",
        "pool2 = MaxPooling2D(pool_size=(2, 2))(conv2)\n",
        "conv3 = Convolution2D(256, 3, activation = 'relu', padding = 'same', kernel_initializer = 'he_normal')(pool2)\n",
        "conv3 = BatchNormalization()(conv3)\n",
        "conv3 = Convolution2D(256, 3, activation = 'relu', padding = 'same', kernel_initializer = 'he_normal')(conv3)\n",
        "conv3 = BatchNormalization()(conv3)\n",
        "pool3 = MaxPooling2D(pool_size=(2, 2))(conv3)\n",
        "conv4 = Convolution2D(512, 3, activation = 'relu', padding = 'same', kernel_initializer = 'he_normal')(pool3)\n",
        "conv4 = BatchNormalization()(conv4)\n",
        "conv4 = Convolution2D(512, 3, activation = 'relu', padding = 'same', kernel_initializer = 'he_normal')(conv4)\n",
        "conv4 = BatchNormalization()(conv4)\n",
        "drop4 = Dropout(0.5)(conv4)\n",
        "pool4 = MaxPooling2D(pool_size=(2, 2))(drop4)\n",
        "\n",
        "conv5 = Convolution2D(1024, 3, activation = 'relu', padding = 'same', kernel_initializer = 'he_normal')(pool4)\n",
        "#conv5 = BatchNormalization()(conv5)\n",
        "conv5 = Convolution2D(1024, 3, activation = 'relu', padding = 'same', kernel_initializer = 'he_normal')(conv5)\n",
        "#conv5 = BatchNormalization()(conv5)\n",
        "drop5 = Dropout(0.5)(conv5)\n",
        "\n",
        "up6 = Convolution2D(512, 3, activation = 'relu', padding = 'same', kernel_initializer = 'he_normal')(UpSampling2D(size = (2,2))(drop5))\n",
        "merge6 = concatenate([drop4,up6],axis=3)\n",
        "conv6 = Convolution2D(512, 3, activation = 'relu', padding = 'same', kernel_initializer = 'he_normal')(merge6)\n",
        "#conv6 = BatchNormalization()(conv6)\n",
        "conv6 = Convolution2D(512, 3, activation = 'relu', padding = 'same', kernel_initializer = 'he_normal')(conv6)\n",
        "#conv6 = BatchNormalization()(conv6)\n",
        "\n",
        "up7 = Convolution2D(256, 3, activation = 'relu', padding = 'same', kernel_initializer = 'he_normal')(UpSampling2D(size = (2,2))(conv6))\n",
        "merge7 = concatenate([conv3,up7], axis = 3)\n",
        "conv7 = Convolution2D(256, 3, activation = 'relu', padding = 'same', kernel_initializer = 'he_normal')(merge7)\n",
        "#conv7 = BatchNormalization()(conv7)\n",
        "conv7 = Convolution2D(256, 3, activation = 'relu', padding = 'same', kernel_initializer = 'he_normal')(conv7)\n",
        "#conv7 = BatchNormalization()(conv7)\n",
        "\n",
        "up8 = Convolution2D(32, 3, activation = 'relu', padding = 'same', kernel_initializer = 'he_normal')(UpSampling2D(size = (2,2))(conv7))\n",
        "merge8 = concatenate([conv2,up8], axis = 3)\n",
        "conv8 = Convolution2D(32, 3, activation = 'relu', padding = 'same', kernel_initializer = 'he_normal')(merge8)\n",
        "#conv8 = BatchNormalization()(conv8)\n",
        "conv8 = Convolution2D(32, 3, activation = 'relu', padding = 'same', kernel_initializer = 'he_normal')(conv8)\n",
        "#conv8 = BatchNormalization()(conv8)\n",
        "\n",
        "up9 = Convolution2D(64, 3, activation = 'relu', padding = 'same', kernel_initializer = 'he_normal')(UpSampling2D(size = (2,2))(conv8))\n",
        "merge9 = concatenate([conv1,up9],axis = 3)\n",
        "conv9 = Convolution2D(64, 3, activation = 'relu', padding = 'same', kernel_initializer = 'he_normal')(merge9)\n",
        "#conv9 = BatchNormalization()(conv9)\n",
        "conv9 = Convolution2D(64, 3, activation = 'relu', padding = 'same', kernel_initializer = 'he_normal')(conv9)\n",
        "#conv9 = BatchNormalization()(conv9)\n",
        "conv9 = Convolution2D(2, 3, activation = 'relu', padding = 'same', kernel_initializer = 'he_normal')(conv9)\n",
        "#conv9 = BatchNormalization()(conv9)\n",
        "conv10 = Convolution2D(1, 1, activation = 'sigmoid')(conv9)\n",
        "model = Model(input = inputs, output = conv10)\n",
        "\n",
        "model.compile(optimizer = Adam(lr = 1e-4), loss = 'binary_crossentropy', metrics = ['accuracy'])\n",
        "\n",
        "print(model.summary())\n"
      ],
      "execution_count": null,
      "outputs": []
    },
    {
      "cell_type": "code",
      "metadata": {
        "id": "I6DOx7BJlxRU",
        "colab_type": "code",
        "colab": {}
      },
      "source": [
        "from keras.optimizers import Adam, SGD\n",
        "\n",
        "model.compile(optimizer = Adam(lr = 1e-4), loss = 'binary_crossentropy', metrics = ['accuracy'])\n"
      ],
      "execution_count": null,
      "outputs": []
    },
    {
      "cell_type": "code",
      "metadata": {
        "id": "uvbLjT1H66TK",
        "colab_type": "code",
        "colab": {}
      },
      "source": [
        "from tensorflow.python.keras.callbacks import EarlyStopping, ModelCheckpoint, LearningRateScheduler\n",
        "import skimage.io as io\n",
        "\n",
        "path = \"/content/siss - Copy/\"\n",
        "for foldq in range(1,2,1):\n",
        "  save_path = 'channels16'\n",
        "  fold=foldq\n",
        "  print(fold)\n",
        "  ans2 = ans\n",
        "  labels2 = labels\n",
        "  # ans2 = np.delete(ans,rm,axis=0)\n",
        "  test2 = ans[70*fold-70:70*fold]\n",
        "\n",
        " \n",
        "  # callbacks_list= [EarlyStopping(monitor='val_loss',patience=10,restore_best_weights=True)]\n",
        "  hist = model.fit(ans[:70],labels[:70],epochs=50,batch_size=4)   \n",
        "  "
      ],
      "execution_count": null,
      "outputs": []
    },
    {
      "cell_type": "code",
      "metadata": {
        "id": "Dsy6LZdpmsV1",
        "colab_type": "code",
        "colab": {}
      },
      "source": [
        "predd = model.predict(test2)\n",
        "\n",
        "\n",
        "p=70\n",
        "for i in range(p):\n",
        "  io.imsave(\"/content/drive/My Drive/agn/\"+str(i)+\"_\"+str(fold)+\".jpg\",predd[i])\n",
        "#metrics\n",
        "\n",
        "\n",
        "result1 = []\n",
        "result2 = []\n",
        "result3 = []\n",
        "p=70\n",
        "k=256\n",
        "num=70\n",
        "\n",
        "for l in range(p):\n",
        "  im1 = cv2.imread(\"/content/drive/My Drive/agn/\"+str(l)+\"_\"+str(fold)+\".jpg\",0)\n",
        "  im1 = cv2.resize(im1,(k,k))\n",
        "  ret,pred = cv2.threshold(im1,0,255,cv2.THRESH_BINARY + cv2.THRESH_OTSU)\n",
        "  t =num*(fold-1) +l\n",
        "  im2 = cv2.imread(path + \"OT/\"+str(t)+\".jpg\",0)\n",
        "  im2 = cv2.resize(im2,(k,k))\n",
        "  ret,label = cv2.threshold(im2,0,255,cv2.THRESH_BINARY + cv2.THRESH_OTSU)\n",
        "  count=0\n",
        "  for i in range (k):\n",
        "    for j in range (k):\n",
        "      if pred[i][j] ==label[i][j] and pred[i][j]==255:\n",
        "        count+=1\n",
        "  den1 = np.count_nonzero(pred)\n",
        "  den2 = np.count_nonzero(label)\n",
        "  den = den1+den2\n",
        "  anss1 = 2*count/(den)\n",
        "  result1= np.append(result1,anss1)\n",
        "  \n",
        "  tp=0\n",
        "  fn = 0\n",
        "  for i in range (k):\n",
        "    for j in range (k):\n",
        "      if pred[i][j] ==label[i][j] and pred[i][j]==255:\n",
        "        tp+=1\n",
        "      if pred[i][j]==0  and label[i][j]==255:\n",
        "        fn+=1\n",
        "  anss2 = tp/(tp+fn+1)\n",
        "  result2= np.append(result2,anss2)\n",
        "  \n",
        "  tn=0\n",
        "  fp = 0\n",
        "  for i in range (k):\n",
        "    for j in range (k):\n",
        "      if pred[i][j]==0  and label[i][j]==0:\n",
        "        tn+=1\n",
        "      if pred[i][j]==255  and label[i][j]==0:\n",
        "        fp+=1\n",
        "  anss3 = tn/(tn+fp)\n",
        "  result3= np.append(result3,anss3)\n",
        "print(np.average(result1)) \n",
        "print(np.std(result1))  \n",
        "print(np.average(result2))  \n",
        "print(np.std(result2)) \n",
        "print(np.average(result3))  \n",
        "print(np.std(result3))  "
      ],
      "execution_count": null,
      "outputs": []
    }
  ]
}