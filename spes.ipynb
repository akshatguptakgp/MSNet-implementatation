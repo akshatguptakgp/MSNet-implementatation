{
  "nbformat": 4,
  "nbformat_minor": 0,
  "metadata": {
    "colab": {
      "name": "kf_spes_10.ipynb",
      "provenance": [],
      "collapsed_sections": []
    },
    "kernelspec": {
      "name": "python3",
      "display_name": "Python 3"
    },
    "accelerator": "GPU"
  },
  "cells": [
    {
      "cell_type": "code",
      "metadata": {
        "id": "XDlszW1vq8ar",
        "colab_type": "code",
        "colab": {}
      },
      "source": [
        "from google.colab import drive\n",
        "\n",
        "drive.mount('/content/drive')"
      ],
      "execution_count": null,
      "outputs": []
    },
    {
      "cell_type": "code",
      "metadata": {
        "id": "FpkLsGZmsNEQ",
        "colab_type": "code",
        "colab": {}
      },
      "source": [
        "from __future__ import print_function\n",
        "from keras.preprocessing.image import ImageDataGenerator\n",
        "import numpy as np \n",
        "import os\n",
        "import glob\n",
        "import skimage.io as io\n",
        "import skimage.transform as trans\n",
        "from keras.models import *\n",
        "from keras.layers import *\n",
        "from keras.optimizers import *\n",
        "from keras.callbacks import EarlyStopping, ModelCheckpoint, LearningRateScheduler\n",
        "from keras import backend as keras\n",
        "import cv2"
      ],
      "execution_count": null,
      "outputs": []
    },
    {
      "cell_type": "code",
      "metadata": {
        "id": "TZAUftZpsOXD",
        "colab_type": "code",
        "colab": {}
      },
      "source": [
        "!unzip -q \"/content/drive/My Drive/ent video/cbf.zip\"\n",
        "!unzip -q \"/content/drive/My Drive/ent video/cbv.zip\"\n",
        "!unzip -q \"/content/drive/My Drive/ent video/ttp.zip\"\n",
        "!unzip -q \"/content/drive/My Drive/ent video/tmax.zip\"\n",
        "!unzip -q \"/content/drive/My Drive/ent video/ot(inverted).zip\""
      ],
      "execution_count": null,
      "outputs": []
    },
    {
      "cell_type": "code",
      "metadata": {
        "id": "v3MhJtkTsQqg",
        "colab_type": "code",
        "colab": {}
      },
      "source": [
        "a = []\n",
        "\n",
        "for i in range(1):\n",
        "   print(i)\n",
        "   im1 = cv2.imread(\"/content/cbf/\"+ str(i) + \".jpg\",0)\n",
        "   im1 = cv2.resize(im1,(256,256))\n",
        "   im1=im1/255\n",
        "   im1 = np.expand_dims(im1,axis=2)\n",
        "\n",
        "\n",
        "   im2 = cv2.imread(\"/content/cbv/\"+ str(i) + \".jpg\",0)\n",
        "   im2 = cv2.resize(im2,(256,256))\n",
        "   im2=im2/255\n",
        "   im2 = np.expand_dims(im2,axis=2)\n",
        "   \n",
        "   \n",
        "   im3 = cv2.imread(\"/content/ttp/\"+ str(i) + \".jpg\",0)\n",
        "   im3 = cv2.resize(im3,(256,256))\n",
        "   im3 = im3/255\n",
        "   im3= np.expand_dims(im3,axis=2)\n",
        "   \n",
        "   \n",
        "   im4 = cv2.imread(\"/content/tmax/\"+ str(i) + \".jpg\",0)\n",
        "   im4 = cv2.resize(im4,(256,256))\n",
        "   im4 = im4/255\n",
        "   im4 = np.expand_dims(im4,axis=2)\n",
        "   \n",
        "   \n",
        "   ans = np.concatenate((im1,im2,im3,im4),axis=2)\n",
        "   ans = np.expand_dims(ans,axis=0)\n",
        "   \n",
        "   print(ans.shape)\n",
        "   \n",
        "   \n",
        "   "
      ],
      "execution_count": null,
      "outputs": []
    },
    {
      "cell_type": "code",
      "metadata": {
        "id": "QBd4-LpZsSTP",
        "colab_type": "code",
        "colab": {}
      },
      "source": [
        "for i in range(1,848,1):\n",
        "   print(i)\n",
        "   im1 = cv2.imread(\"/content/cbf/\"+ str(i) + \".jpg\",0)\n",
        "   im1 = cv2.resize(im1,(256,256))\n",
        "   im1=im1/255\n",
        "   im1 = np.expand_dims(im1,axis=2)\n",
        "\n",
        "\n",
        "   im2 = cv2.imread(\"/content/cbv/\"+ str(i) + \".jpg\",0)\n",
        "   im2 = cv2.resize(im2,(256,256))\n",
        "   im2=im2/255\n",
        "   im2 = np.expand_dims(im2,axis=2)\n",
        "   \n",
        "   \n",
        "   im3 = cv2.imread(\"/content/ttp/\"+ str(i) + \".jpg\",0)\n",
        "   im3 = cv2.resize(im3,(256,256))\n",
        "   im3=im3/255\n",
        "   im3= np.expand_dims(im3,axis=2)\n",
        "   \n",
        "   \n",
        "   im4 = cv2.imread(\"/content/tmax/\"+ str(i) + \".jpg\",0)\n",
        "   im4 = cv2.resize(im4,(256,256))\n",
        "   im4 = im4/255\n",
        "   im4 = np.expand_dims(im4,axis=2)\n",
        "   \n",
        "   \n",
        "   ans2 = np.concatenate((im1,im2,im3,im4),axis=2)\n",
        "   ans2 = np.expand_dims(ans2,axis=0)\n",
        "   \n",
        "   ans = np.concatenate((ans,ans2),axis=0)\n",
        "   \n",
        "   "
      ],
      "execution_count": null,
      "outputs": []
    },
    {
      "cell_type": "code",
      "metadata": {
        "id": "2OImHIhxsUy-",
        "colab_type": "code",
        "colab": {}
      },
      "source": [
        "print(ans.shape)\n",
        "print(np.unique(ans))"
      ],
      "execution_count": null,
      "outputs": []
    },
    {
      "cell_type": "code",
      "metadata": {
        "id": "OqDdtnVlsWXJ",
        "colab_type": "code",
        "colab": {}
      },
      "source": [
        "#%% preparing labels\n",
        "   \n",
        "   \n",
        "   \n",
        "   \n",
        "for i in range(1):\n",
        "    print(i)\n",
        "    im1 = cv2.imread(\"/content/ot(inverted)/\" + str(i)+\".jpg\",0)\n",
        "    \n",
        "    im1 = cv2.resize(im1,(256,256))\n",
        "    for i in range(256):\n",
        "      for j in range(256):\n",
        "        if(im1[i][j]>128):\n",
        "          im1[i][j]=1\n",
        "        else:\n",
        "          im1[i][j]=0\n",
        "          \n",
        "   \n",
        "    print(np.unique(im1))\n",
        "    \n",
        "    im1 = np.expand_dims(im1,axis=2)\n",
        "    labels = np.expand_dims(im1,axis=0)\n",
        "   \n",
        "for i in range(1,848,1):\n",
        "    print(i)\n",
        "    im1 = cv2.imread(\"/content/ot(inverted)/\" + str(i)+\".jpg\",0)\n",
        "    im1 = cv2.resize(im1,(256,256))\n",
        "    for i in range(256):\n",
        "      for j in range(256):\n",
        "        if(im1[i][j]>128):\n",
        "          im1[i][j]=1\n",
        "        else:\n",
        "          im1[i][j]=0\n",
        "   \n",
        "    im1 = np.expand_dims(im1,axis=0)\n",
        "    im1 = np.expand_dims(im1,axis=3)\n",
        "    labels = np.concatenate((labels,im1),axis=0)"
      ],
      "execution_count": null,
      "outputs": []
    },
    {
      "cell_type": "code",
      "metadata": {
        "id": "5l7mKHiTsYty",
        "colab_type": "code",
        "colab": {}
      },
      "source": [
        "print(np.unique(labels))\n",
        "print(labels.shape)\n",
        "print(ans.shape)"
      ],
      "execution_count": null,
      "outputs": []
    },
    {
      "cell_type": "code",
      "metadata": {
        "id": "aE97yoBRsbgv",
        "colab_type": "code",
        "colab": {}
      },
      "source": [
        "input_size = (256,256,4)\n",
        "inputs = Input(input_size) #returns a tensor\n",
        "conv1 = Convolution2D(64, 3, activation = 'relu', padding = 'same', kernel_initializer = 'he_normal')(inputs)\n",
        "conv1 = BatchNormalization()(conv1)\n",
        "conv1 = Convolution2D(64, 3, activation = 'relu', padding = 'same', kernel_initializer = 'he_normal')(conv1)\n",
        "conv1 = BatchNormalization()(conv1)\n",
        "pool1 = MaxPooling2D(pool_size=(2, 2))(conv1)\n",
        "conv2 = Convolution2D(128, 3, activation = 'relu', padding = 'same', kernel_initializer = 'he_normal')(pool1)\n",
        "conv2 = BatchNormalization()(conv2)\n",
        "conv2 = Convolution2D(128, 3, activation = 'relu', padding = 'same', kernel_initializer = 'he_normal')(conv2)\n",
        "conv2 = BatchNormalization()(conv2)\n",
        "pool2 = MaxPooling2D(pool_size=(2, 2))(conv2)\n",
        "conv3 = Convolution2D(256, 3, activation = 'relu', padding = 'same', kernel_initializer = 'he_normal')(pool2)\n",
        "conv3 = BatchNormalization()(conv3)\n",
        "conv3 = Convolution2D(256, 3, activation = 'relu', padding = 'same', kernel_initializer = 'he_normal')(conv3)\n",
        "conv3 = BatchNormalization()(conv3)\n",
        "pool3 = MaxPooling2D(pool_size=(2, 2))(conv3)\n",
        "conv4 = Convolution2D(512, 3, activation = 'relu', padding = 'same', kernel_initializer = 'he_normal')(pool3)\n",
        "conv4 = BatchNormalization()(conv4)\n",
        "conv4 = Convolution2D(512, 3, activation = 'relu', padding = 'same', kernel_initializer = 'he_normal')(conv4)\n",
        "conv4 = BatchNormalization()(conv4)\n",
        "drop4 = Dropout(0.5)(conv4)\n",
        "pool4 = MaxPooling2D(pool_size=(2, 2))(drop4)\n",
        "\n",
        "conv5 = Convolution2D(1024, 3, activation = 'relu', padding = 'same', kernel_initializer = 'he_normal')(pool4)\n",
        "#conv5 = BatchNormalization()(conv5)\n",
        "conv5 = Convolution2D(1024, 3, activation = 'relu', padding = 'same', kernel_initializer = 'he_normal')(conv5)\n",
        "#conv5 = BatchNormalization()(conv5)\n",
        "drop5 = Dropout(0.5)(conv5)\n",
        "\n",
        "up6 = Convolution2D(512, 3, activation = 'relu', padding = 'same', kernel_initializer = 'he_normal')(UpSampling2D(size = (2,2))(drop5))\n",
        "merge6 = concatenate([drop4,up6],axis=3)\n",
        "conv6 = Convolution2D(512, 3, activation = 'relu', padding = 'same', kernel_initializer = 'he_normal')(merge6)\n",
        "#conv6 = BatchNormalization()(conv6)\n",
        "conv6 = Convolution2D(512, 3, activation = 'relu', padding = 'same', kernel_initializer = 'he_normal')(conv6)\n",
        "#conv6 = BatchNormalization()(conv6)\n",
        "\n",
        "up7 = Convolution2D(256, 3, activation = 'relu', padding = 'same', kernel_initializer = 'he_normal')(UpSampling2D(size = (2,2))(conv6))\n",
        "merge7 = concatenate([conv3,up7], axis = 3)\n",
        "conv7 = Convolution2D(256, 3, activation = 'relu', padding = 'same', kernel_initializer = 'he_normal')(merge7)\n",
        "#conv7 = BatchNormalization()(conv7)\n",
        "conv7 = Convolution2D(256, 3, activation = 'relu', padding = 'same', kernel_initializer = 'he_normal')(conv7)\n",
        "#conv7 = BatchNormalization()(conv7)\n",
        "\n",
        "up8 = Convolution2D(32, 3, activation = 'relu', padding = 'same', kernel_initializer = 'he_normal')(UpSampling2D(size = (2,2))(conv7))\n",
        "merge8 = concatenate([conv2,up8], axis = 3)\n",
        "conv8 = Convolution2D(32, 3, activation = 'relu', padding = 'same', kernel_initializer = 'he_normal')(merge8)\n",
        "#conv8 = BatchNormalization()(conv8)\n",
        "conv8 = Convolution2D(32, 3, activation = 'relu', padding = 'same', kernel_initializer = 'he_normal')(conv8)\n",
        "#conv8 = BatchNormalization()(conv8)\n",
        "\n",
        "up9 = Convolution2D(64, 3, activation = 'relu', padding = 'same', kernel_initializer = 'he_normal')(UpSampling2D(size = (2,2))(conv8))\n",
        "merge9 = concatenate([conv1,up9],axis = 3)\n",
        "conv9 = Convolution2D(64, 3, activation = 'relu', padding = 'same', kernel_initializer = 'he_normal')(merge9)\n",
        "#conv9 = BatchNormalization()(conv9)\n",
        "conv9 = Convolution2D(64, 3, activation = 'relu', padding = 'same', kernel_initializer = 'he_normal')(conv9)\n",
        "#conv9 = BatchNormalization()(conv9)\n",
        "conv9 = Convolution2D(2, 3, activation = 'relu', padding = 'same', kernel_initializer = 'he_normal')(conv9)\n",
        "#conv9 = BatchNormalization()(conv9)\n",
        "conv10 = Convolution2D(1, 1, activation = 'sigmoid')(conv9)\n",
        "model = Model(input = inputs, output = conv10)\n",
        "\n",
        "model.compile(optimizer = Adam(lr = 1e-4), loss = 'binary_crossentropy', metrics = ['accuracy'])\n",
        "\n",
        "print(model.summary())\n"
      ],
      "execution_count": null,
      "outputs": []
    },
    {
      "cell_type": "code",
      "metadata": {
        "id": "UQQC6o4Cs6f9",
        "colab_type": "code",
        "colab": {}
      },
      "source": [
        "import sklearn\n",
        "from sklearn.model_selection import KFold"
      ],
      "execution_count": null,
      "outputs": []
    },
    {
      "cell_type": "code",
      "metadata": {
        "id": "BKMiS4DruVb3",
        "colab_type": "code",
        "colab": {}
      },
      "source": [
        " callbacks_list= [EarlyStopping(monitor='val_loss',patience=5,restore_best_weights=True)]\n",
        "   \n",
        "fold = KFold(10,shuffle=False)\n",
        "count=0\n",
        "# For iterate over the folds just use split\n",
        "for train_index, test_index in fold.split(ans):\n",
        "  count+=1\n",
        "  print(\"folddd\")\n",
        "  X_train, X_test = ans[train_index], ans[test_index]\n",
        "  y_train, y_test = labels[train_index], labels[test_index]\n",
        "  hist = model.fit(X_train,y_train,epochs=30,batch_size=2,callbacks=callbacks_list,validation_data=[ans[700:800],labels[700:800]],shuffle=True)   \n",
        "  #test = ans[750:]\n",
        "  pred = model.predict(X_test)\n",
        "\n",
        "  for i in range(X_test[0]):\n",
        "    print(i)\n",
        "    io.imsave(\"/content/drive/My Drive/data/\"+str(i)+\"fold\"+str(count)+\"spes_inv.jpg\",pred[i])\n",
        "  print(X_train.shape)\n",
        "  print(X_test.shape)"
      ],
      "execution_count": null,
      "outputs": []
    },
    {
      "cell_type": "code",
      "metadata": {
        "id": "hc3HkWyMvna1",
        "colab_type": "code",
        "colab": {}
      },
      "source": [
        ""
      ],
      "execution_count": null,
      "outputs": []
    }
  ]
}